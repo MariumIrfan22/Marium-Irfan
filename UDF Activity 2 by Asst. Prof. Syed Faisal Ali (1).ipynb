{
 "cells": [
  {
   "cell_type": "markdown",
   "metadata": {},
   "source": [
    "# Python User Define Function Practice Activity - 2 "
   ]
  },
  {
   "cell_type": "markdown",
   "metadata": {},
   "source": [
    "Asst. Prof. Syed Faisal Ali              $\\;\\;\\;\\;\\;\\;$              Programming Fundamentals - FALL 2019 $\\;\\;\\;\\;\\;\\;$ Software Engineering                     $\\;\\;\\;\\;\\;\\;$                   Dated: 27 Nov 2019"
   ]
  },
  {
   "cell_type": "markdown",
   "metadata": {},
   "source": [
    "Question 1: Create a function to find the following:\n",
    "If the base of triangle is 3 cm long and its equilateral triangle and the radius of circle is 1.5 cm then find the area of triangle shaded. \n"
   ]
  },
  {
   "cell_type": "markdown",
   "metadata": {},
   "source": [
    "![proj](q1.jpg)"
   ]
  },
  {
   "cell_type": "code",
   "execution_count": 22,
   "metadata": {},
   "outputs": [
    {
     "data": {
      "text/plain": [
       "2.25"
      ]
     },
     "execution_count": 22,
     "metadata": {},
     "output_type": "execute_result"
    }
   ],
   "source": [
    "def area_of_triangle(base,radius):\n",
    "    height=base*radius/2\n",
    "    return height\n",
    "area_of_triangle(3,1.5)\n",
    "    \n"
   ]
  },
  {
   "cell_type": "raw",
   "metadata": {},
   "source": [
    "Question 2: Create a function which can read a dictionary of your family members such as 5 members. \n",
    "1 Abbu, 1 Ammi, 2 Brothers 1 Sister. Now feed this data in dictionary in terms of name and relations.\n",
    "The UDF will ask findrelation() in this you will enter Brother it will return the names of two brothers you have inserted. In case if the relation is not found it will return “Sorry the relation doesn’t exist in your family.” \n"
   ]
  },
  {
   "cell_type": "code",
   "execution_count": 27,
   "metadata": {
    "scrolled": true
   },
   "outputs": [
    {
     "name": "stdout",
     "output_type": "stream",
     "text": [
      " relations in my_dict : {'father': 'Irfan', 'brother': 'Afnan ,muneeb', 'sister': 'rabia', 'mother': 'uzma'}\n"
     ]
    },
    {
     "data": {
      "text/plain": [
       "'Afnan ,muneeb'"
      ]
     },
     "execution_count": 27,
     "metadata": {},
     "output_type": "execute_result"
    }
   ],
   "source": [
    "def findrelation(d):\n",
    "    my_dict={'father':'Irfan','brother':'Afnan ,muneeb','sister':'rabia','mother':'uzma'}\n",
    "    print(\" relations in my_dict :\", my_dict )\n",
    "    d=my_dict[d]\n",
    "    return d\n",
    "findrelation('brother')\n",
    "    \n"
   ]
  },
  {
   "cell_type": "markdown",
   "metadata": {},
   "source": [
    "Question 3: Create a function to find the following:\n",
    "If the base of triangle is 5 cm long and its equilateral triangle and the radius of circle is 2.25 cm then find the area of triangle shaded. \n"
   ]
  },
  {
   "cell_type": "code",
   "execution_count": 23,
   "metadata": {},
   "outputs": [
    {
     "data": {
      "text/plain": [
       "5.625"
      ]
     },
     "execution_count": 23,
     "metadata": {},
     "output_type": "execute_result"
    }
   ],
   "source": [
    "def area_of_triangle(base,radius):\n",
    "    height=base*radius/2\n",
    "    return height\n",
    "area_of_triangle(5,2.25)\n",
    "    "
   ]
  },
  {
   "cell_type": "markdown",
   "metadata": {},
   "source": [
    "Question 4:Create a function that takes a list of random numbers from users and add only those which are even. If all the numbers are odd it will return sorry no even number found.\n"
   ]
  },
  {
   "cell_type": "code",
   "execution_count": 33,
   "metadata": {},
   "outputs": [
    {
     "name": "stdout",
     "output_type": "stream",
     "text": [
      "the sum of even numbers are  14\n"
     ]
    }
   ],
   "source": [
    "def even(a,b,c,d,e):\n",
    "    lst=[a,b,c,d,e]\n",
    "    sum=0\n",
    "    for i in lst:\n",
    "        if i%2==0:\n",
    "            sum+=i\n",
    "    print(\"the sum of even numbers are \",sum)\n",
    "even(3,6,8,7,9)"
   ]
  },
  {
   "cell_type": "markdown",
   "metadata": {},
   "source": [
    "Question 5:\n",
    "Write a function which can take a list of numbers and it will return sorted list.\n"
   ]
  },
  {
   "cell_type": "code",
   "execution_count": 29,
   "metadata": {},
   "outputs": [
    {
     "name": "stdout",
     "output_type": "stream",
     "text": [
      "[2, 3, 6, 6, 8, 9]\n"
     ]
    }
   ],
   "source": [
    "def sortedlist():\n",
    "    lst=[2,3,6,8,9,6]\n",
    "    lst.sort()\n",
    "    print(lst)\n",
    "sortedlist()"
   ]
  },
  {
   "cell_type": "markdown",
   "metadata": {},
   "source": [
    "Question 6:\n",
    "Write a function that will take the radius and return the perimeter and area of circle with 5% increment.\n"
   ]
  },
  {
   "cell_type": "code",
   "execution_count": 31,
   "metadata": {},
   "outputs": [
    {
     "name": "stdout",
     "output_type": "stream",
     "text": [
      "time taken 1 min\n",
      "area of circle is: 78.68981633974484 cm\n",
      "perimeter of circle is: 31.41592653589793 cm\n"
     ]
    }
   ],
   "source": [
    "from math import pi\n",
    "def area_ofcircle(r):\n",
    "    area=(pi*r**2)+(15/100)\n",
    "    perimeter=2*pi*r\n",
    "    print(\"area of circle is:\",area,\"cm\")\n",
    "    print(\"perimeter of circle is:\",perimeter,\"cm\")\n",
    "    return\n",
    "print(\"time taken 1 min\")\n",
    "area_ofcircle(5)\n",
    "    "
   ]
  },
  {
   "cell_type": "markdown",
   "metadata": {},
   "source": [
    "Question 7:\n",
    "Write a function that will take the strings as argument and return number of vowels and consonants.\n"
   ]
  },
  {
   "cell_type": "code",
   "execution_count": 28,
   "metadata": {},
   "outputs": [
    {
     "name": "stdout",
     "output_type": "stream",
     "text": [
      "consonants consonants consonants consonants vowels consonants vowels consonants vowels consonants consonants consonants vowels consonants vowels vowels consonants "
     ]
    }
   ],
   "source": [
    "def arg(my_string):\n",
    "    vowels=0\n",
    "    for i in my_string:\n",
    "        if (i=='a' or i=='e' or i=='i' or i=='o' or i=='u'):\n",
    "            vowels=vowels+1\n",
    "            print(\"vowels\",end=' ')\n",
    "        else:\n",
    "            print(\"consonants\",end=' ')\n",
    "arg(\"my name is marium\")"
   ]
  },
  {
   "cell_type": "markdown",
   "metadata": {},
   "source": [
    "Question 8:\n",
    "Write a function that will take length and breadth for a rectangle and return perimeter and area of rectangle with 8% increment.\n"
   ]
  },
  {
   "cell_type": "code",
   "execution_count": 34,
   "metadata": {},
   "outputs": [
    {
     "name": "stdout",
     "output_type": "stream",
     "text": [
      "the perimeter of rectangle is  25.92 \n",
      "the area of rectangle is  34.56\n"
     ]
    }
   ],
   "source": [
    "def peri_area(l,b):\n",
    "    p=2*(l+b)\n",
    "    a=l*b\n",
    "    x=p/12.5+p\n",
    "    y=a/12.5+a\n",
    "    print(\"the perimeter of rectangle is \",x,\"\\nthe area of rectangle is \",y)\n",
    "peri_area(4,8)"
   ]
  },
  {
   "cell_type": "markdown",
   "metadata": {},
   "source": [
    "Question 9:\n",
    "Write a function that can take the numbers in strings. From string find which number is even and which one is odd. Save them in two different lists and generate the result.\n"
   ]
  },
  {
   "cell_type": "code",
   "execution_count": 36,
   "metadata": {},
   "outputs": [
    {
     "name": "stdout",
     "output_type": "stream",
     "text": [
      "even list are  [20, 98] \n",
      "odd list are  [35, 55, 67, 13]\n"
     ]
    }
   ],
   "source": [
    "def str1(a,b,c,d,e,f):\n",
    "    even=[]\n",
    "    odd=[]\n",
    "    lst=[a,b,c,d,e,f]\n",
    "    for i in lst:\n",
    "        if i%2==0:\n",
    "            even.append(i)\n",
    "        else:\n",
    "            odd.append(i)\n",
    "    print(\"even list are \",even,\"\\nodd list are \",odd)\n",
    "str1(20,35,55,67,98,13)"
   ]
  },
  {
   "cell_type": "markdown",
   "metadata": {},
   "source": [
    "Question 10:\n",
    "Write a function which will take the string from the user and return how many alphabets have been used in it and which alphabets are missing.\n"
   ]
  },
  {
   "cell_type": "code",
   "execution_count": 54,
   "metadata": {},
   "outputs": [
    {
     "name": "stdout",
     "output_type": "stream",
     "text": [
      "the missing alphabets are  ['b', 'c', 'd', 'e', 'f', 'g', 'h', 'j', 'k', 'l', 'n', 'o', 'p', 'q', 's', 't', 'u', 'v', 'w', 'x', 'y', 'z']\n",
      "the used alphabet are  mari\n",
      "m a r i "
     ]
    }
   ],
   "source": [
    "def alpha(s):\n",
    "    alphabets=['a','b','c','d','e','f','g','h','i','j','k','l','m','n','o','p','q','r','s','t','u','v','w','x','y','z']\n",
    "    for i in s:\n",
    "        alphabets.remove(i)\n",
    "    print('the missing alphabets are ',alphabets)\n",
    "    print(\"the used alphabet are \",s)\n",
    "    for i in s:\n",
    "        print(i,end=\" \")\n",
    "alpha(\"mari\")\n"
   ]
  },
  {
   "cell_type": "markdown",
   "metadata": {},
   "source": [
    "Question 11:\n",
    "Write a function that will take verbs in words and return a list of verbs with continuous tense by adding (ing) at the end of each verb.\n"
   ]
  },
  {
   "cell_type": "code",
   "execution_count": 39,
   "metadata": {},
   "outputs": [
    {
     "name": "stdout",
     "output_type": "stream",
     "text": [
      "seeing\n",
      "danceing\n"
     ]
    }
   ],
   "source": [
    "def verb(x):\n",
    "    return x+\"ing\"\n",
    "print(verb(\"see\"))\n",
    "print(verb(\"dance\"))"
   ]
  },
  {
   "cell_type": "markdown",
   "metadata": {},
   "source": [
    "Question 12:\n",
    "Make a function which can take two radius of circles and find the areas of it and subtract smaller one from larger one and tell the remaining area of circle.\n"
   ]
  },
  {
   "cell_type": "code",
   "execution_count": 40,
   "metadata": {},
   "outputs": [
    {
     "name": "stdout",
     "output_type": "stream",
     "text": [
      "the area of circle is  103.67255756846316\n",
      "None\n",
      "the area of circle is  113.09733552923257\n",
      "None\n"
     ]
    }
   ],
   "source": [
    "import math\n",
    "def area(r1,r2):\n",
    "    area1=math.pi*r1*r1\n",
    "    area2=math.pi*r2*r2\n",
    "    if r1>r2:\n",
    "        a=area1-area2\n",
    "        print(\"the area of circle is \",a)\n",
    "    elif r1<r2:\n",
    "        a=area2-area1\n",
    "        print(\"the area of circle is \",a)\n",
    "print(area(4,7))\n",
    "print(area(10,8))"
   ]
  },
  {
   "cell_type": "markdown",
   "metadata": {},
   "source": [
    "Question 13:\n",
    "Write a function that will take a string and calculate number of Upper case letters and lower case letters.\n"
   ]
  },
  {
   "cell_type": "code",
   "execution_count": 41,
   "metadata": {},
   "outputs": [
    {
     "name": "stdout",
     "output_type": "stream",
     "text": [
      "the nunmber of lower letters are  4\n",
      "the nunmber of upper letters are  2\n"
     ]
    }
   ],
   "source": [
    "def string_count(x):\n",
    "    count1=0\n",
    "    count2=0\n",
    "    for i in x:\n",
    "        if (i.islower()):\n",
    "            count1+=1\n",
    "        elif (i.isupper()):\n",
    "            count2+=1\n",
    "    print(\"the nunmber of lower letters are \",count1)\n",
    "    print(\"the nunmber of upper letters are \",count2)\n",
    "string_count(\"mARium\")"
   ]
  },
  {
   "cell_type": "markdown",
   "metadata": {},
   "source": [
    "Question 14:\n",
    "Write a function which will take length and breadth of two rectangles. Subtract the smaller rectangle from the larger rectangle and return the area left behind.\n"
   ]
  },
  {
   "cell_type": "code",
   "execution_count": 42,
   "metadata": {},
   "outputs": [
    {
     "name": "stdout",
     "output_type": "stream",
     "text": [
      "the area of rectangle is  48  m.sq\n",
      "the area of rectangle is  15  m.sq\n"
     ]
    }
   ],
   "source": [
    "def area_rectangle(l1,b1,l2,b2):\n",
    "    area1=l1*b1\n",
    "    area2=l2*b2\n",
    "    if area1>area2:\n",
    "        area=area1-area2\n",
    "        print(\"the area of rectangle is \",area,\" m.sq\")\n",
    "    elif area2>area1:\n",
    "        area=area2-area1\n",
    "        print(\"the area of rectangle is \",area,\" m.sq\")\n",
    "area_rectangle(4,6,8,9)\n",
    "area_rectangle(9,7,8,6)"
   ]
  },
  {
   "cell_type": "markdown",
   "metadata": {},
   "source": [
    "Question 15:\n",
    "Create a function that can add the fractions in series such as 1 to 8 = 1/8+1/7+1/6+1/5 …… ½ and return the result in fraction not in decimal.\n"
   ]
  },
  {
   "cell_type": "code",
   "execution_count": 43,
   "metadata": {},
   "outputs": [
    {
     "name": "stdout",
     "output_type": "stream",
     "text": [
      "743/840\n"
     ]
    }
   ],
   "source": [
    "import fractions\n",
    "def fraction(n1,n2):\n",
    "    lst=[]\n",
    "    for i in range(n1,n2+1):\n",
    "        x=fractions.Fraction(1,i)\n",
    "        lst.append(x)\n",
    "    print(sum(lst))\n",
    "fraction(4,8)"
   ]
  },
  {
   "cell_type": "markdown",
   "metadata": {},
   "source": [
    "Question 16:\n",
    "Write a function which will take height and base for a triangle and \n"
   ]
  },
  {
   "cell_type": "code",
   "execution_count": 19,
   "metadata": {},
   "outputs": [
    {
     "data": {
      "text/plain": [
       "33.0"
      ]
     },
     "execution_count": 19,
     "metadata": {},
     "output_type": "execute_result"
    }
   ],
   "source": [
    "def area_of_triangle(base,height):\n",
    "    area=(base*height)/2\n",
    "    return area\n",
    "area_of_triangle(3,22)"
   ]
  },
  {
   "cell_type": "markdown",
   "metadata": {},
   "source": [
    "Question 17:\n",
    "Write a function which will take a list of fruits names. The function will return how many alphabets are repetitive in the names of fruits and how many are unique letters.\n"
   ]
  },
  {
   "cell_type": "code",
   "execution_count": 44,
   "metadata": {},
   "outputs": [
    {
     "name": "stdout",
     "output_type": "stream",
     "text": [
      "the repititive elements are:  6\n"
     ]
    }
   ],
   "source": [
    "import collections\n",
    "def repwords(a,b,c):\n",
    "    lst=[a,b,c]\n",
    "    z=0\n",
    "    an=0\n",
    "    for i in lst:\n",
    "        for j in i:\n",
    "            n=i.count(j)\n",
    "            if n>1:\n",
    "                an+=1\n",
    "    print('the repititive elements are: ',an)\n",
    "repwords(\"apple\",\"pomegranate\",\"guave\")"
   ]
  },
  {
   "cell_type": "markdown",
   "metadata": {},
   "source": [
    "Question 18:\n",
    "Write a function that can take square length and radius of circle. Find the area of both and subtract the smallest shape from largest one and return the remaining shape area.\n"
   ]
  },
  {
   "cell_type": "code",
   "execution_count": 45,
   "metadata": {},
   "outputs": [
    {
     "name": "stdout",
     "output_type": "stream",
     "text": [
      "the area of shape is  8800\n",
      "the area of shape is  5500\n"
     ]
    }
   ],
   "source": [
    "def shape_area(l1,r1,l2,r2):\n",
    "    area1=l1*l1*r1\n",
    "    area2=l2*l2*r2\n",
    "    if area1>area2:\n",
    "        area=area1-area2\n",
    "        print(\"the area of shape is \",area)\n",
    "    elif area2>area1:\n",
    "        area=area2-area1\n",
    "        print(\"the area of shape is \",area)\n",
    "shape_area(10,12,20,25)\n",
    "shape_area(20,15,10,5)"
   ]
  },
  {
   "cell_type": "code",
   "execution_count": null,
   "metadata": {},
   "outputs": [],
   "source": []
  }
 ],
 "metadata": {
  "kernelspec": {
   "display_name": "Python 3",
   "language": "python",
   "name": "python3"
  },
  "language_info": {
   "codemirror_mode": {
    "name": "ipython",
    "version": 3
   },
   "file_extension": ".py",
   "mimetype": "text/x-python",
   "name": "python",
   "nbconvert_exporter": "python",
   "pygments_lexer": "ipython3",
   "version": "3.7.3"
  }
 },
 "nbformat": 4,
 "nbformat_minor": 2
}
